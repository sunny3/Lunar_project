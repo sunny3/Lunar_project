{
 "cells": [
  {
   "cell_type": "code",
   "execution_count": 4,
   "metadata": {},
   "outputs": [
    {
     "name": "stderr",
     "output_type": "stream",
     "text": [
      "Using TensorFlow backend.\n"
     ]
    }
   ],
   "source": [
    "import gym\n",
    "\n",
    "from keras.models import Sequential\n",
    "from keras.layers import Dense\n",
    "from keras.optimizers import Adam\n",
    "from keras.models import load_model \n",
    "import numpy as np\n",
    "from collections import deque\n",
    "from sklearn.utils import shuffle\n",
    "import copy"
   ]
  },
  {
   "cell_type": "code",
   "execution_count": 4,
   "metadata": {},
   "outputs": [
    {
     "name": "stdout",
     "output_type": "stream",
     "text": [
      "Collecting box2d\n",
      "  Downloading Box2D-2.3.10-cp37-cp37m-win_amd64.whl (1.3 MB)\n",
      "Installing collected packages: box2d\n",
      "Successfully installed box2d-2.3.10\n"
     ]
    }
   ],
   "source": [
    "!pip install box2d"
   ]
  },
  {
   "cell_type": "code",
   "execution_count": 6,
   "metadata": {},
   "outputs": [],
   "source": [
    "class EpsDecisionMaking():\n",
    "    def __init__(self, eps, min_eps, eps_decay, n_jumps):\n",
    "        self.start_eps = eps\n",
    "        self.eps = eps\n",
    "        self.min_eps = min_eps\n",
    "        self.eps_delta = eps_decay\n",
    "        self.n_jumps = n_jumps\n",
    "    \n",
    "            \n",
    "class QLearningMethod():\n",
    "    def __init__(self, gamma, learning_rate, batch_size, max_memory_len, n_actions, n_states, eps_settings, tau, mode='train'):\n",
    "        self.gamma = gamma #параметр, с помощью которого задается баланс между сиюминутными наградами и будущими\n",
    "        self.n_actions = n_actions #количество возможных действий\n",
    "        self.n_states = n_states #количество степеней свободы\n",
    "        self.learning_rate = learning_rate\n",
    "        self.memory = None # шаги агента. (состояние_t, действие_t, награда_t, состояние_t+1, выполнен ли эпизод?)\n",
    "        self.max_memory_len = max_memory_len #максимальная длина шагов, которых модель способна запомнить\n",
    "        self.batch_size = batch_size\n",
    "        self.mode = mode\n",
    "        self.tau = tau #интенсивность передачи информации от local_model к target_model\n",
    "        for key, param in eps_settings.items():\n",
    "            setattr(self, key, param)\n",
    "        if self.mode=='train':\n",
    "            self.local_model = self.get_QNN() #сама модель\n",
    "            self.target_model = self.get_QNN()\n",
    "        else:\n",
    "            self.local_model = self.load_QNN() #обученная модель\n",
    "        self.n_layers = len(self.local_model.layers)\n",
    "        \n",
    "    def soft_update(self):\n",
    "        #метод, реализующий передачу информации от local_model к target_model\n",
    "        for layer_index in range(self.n_layers):\n",
    "            local_params = self.local_model.get_layer(index = layer_index).get_weights()\n",
    "            target_params = self.target_model.get_layer(index = layer_index).get_weights()\n",
    "            weighted_res = []\n",
    "            for local_nparray, target_nparray in zip(local_params, target_params):\n",
    "                weighted_res.append(self.tau*local_nparray + (1-self.tau)*target_nparray)\n",
    "            self.target_model.get_layer(index = layer_index).set_weights(weighted_res)\n",
    "            \n",
    "    def get_QNN(self):\n",
    "        model = Sequential()\n",
    "        model.add(Dense(64, input_dim=self.n_states, activation='relu'))\n",
    "        model.add(Dense(64, activation='relu'))\n",
    "        model.add(Dense(self.n_actions, activation='linear'))\n",
    "        model.compile(loss='mse', optimizer=Adam(lr=self.learning_rate))\n",
    "        return model\n",
    "    \n",
    "    def random_choice(self):\n",
    "        #если этот метод не вернул None, то агентом делается случайный выбор\n",
    "        rand = np.random.random()\n",
    "        if rand >= 1 - self.eps:\n",
    "            self.minimize_eps()\n",
    "            return np.random.choice(range(self.n_actions))\n",
    "        self.minimize_eps()\n",
    "        return None\n",
    "    \n",
    "    def minimize_eps(self):\n",
    "        #метод скачкообразно снижающий эпсилон, надо сказать, что он его снижает очень быстро\n",
    "        self.eps = self.eps*self.eps_delta\n",
    "        if self.eps < self.min_eps and self.n_jumps > 0:\n",
    "            self.eps = copy.deepcopy(self.max_eps)\n",
    "            self.n_jumps -= 1\n",
    "        elif self.eps < self.min_eps:\n",
    "            self.eps = copy.deepcopy(self.min_eps)\n",
    "            \n",
    "    def load_QNN(self):\n",
    "        return load_model('./saved_models/short_memory_smart_agent_local.h5')\n",
    "            \n",
    "    def choose_action(self, curr_state):\n",
    "        #метод, выбирающий действия, именно он важен в обученном агенте. Когда агент обучился, я выключаю рандом\n",
    "        if self.mode=='train':\n",
    "            choice = self.random_choice()\n",
    "            if choice is not None:\n",
    "                return choice\n",
    "        curr_state = np.reshape(curr_state, [1, self.n_states])\n",
    "        real_Qvalues = self.local_model.predict(curr_state)\n",
    "        return np.argmax(real_Qvalues[0])\n",
    "    \n",
    "    def remember_step(self,curr_state, curr_action, curr_reward, next_state, done):\n",
    "        #запомнить шаг\n",
    "        what2add = np.array([curr_state, curr_action, curr_reward, next_state, done])\n",
    "        if self.memory is None:\n",
    "            self.memory = what2add\n",
    "        else:\n",
    "            if self.memory.shape[0]==self.max_memory_len:\n",
    "                self.memory = np.delete(self.memory, 0, axis=0)\n",
    "            self.memory = np.vstack((self.memory, what2add))\n",
    "    def faster_expirience_reply(self):\n",
    "        #метод, делающий абсолютно то же самое, что и expirience_reply, только быстрее, так как реализован на numpy векторах\n",
    "        batch = shuffle(self.memory)[-self.batch_size:]\n",
    "        states = np.vstack(batch[:, 0])\n",
    "        real_Qvalues = self.local_model.predict(states)\n",
    "        non_terminal = batch[:,4]==False\n",
    "        non_terminal_indexes = np.array(np.nonzero(non_terminal)).flatten()\n",
    "        terminal_indexes = np.array(np.nonzero(~non_terminal)).flatten()\n",
    "        wanted_Qvalues = batch[non_terminal, 2] + self.gamma * np.amax(self.target_model.predict(np.vstack(batch[non_terminal, 3])), axis = -1)\n",
    "        \n",
    "        real_Qvalues[non_terminal_indexes, batch[non_terminal_indexes, 1].flatten().astype(np.int64)] = wanted_Qvalues\n",
    "        real_Qvalues[terminal_indexes, batch[terminal_indexes, 1].flatten().astype(np.int64)] = batch[terminal_indexes, 2]\n",
    "        self.local_model.fit(states, real_Qvalues, batch_size=self.batch_size, epochs=1, verbose=0) \n",
    "        self.soft_update()\n",
    "    def expirience_reply(self):\n",
    "        states = [] #то, что мы должны подать на вход модели: координаты в пространстве\n",
    "        Qvalues = [] #модель должна выдать полезности всех возможных действий\n",
    "\n",
    "        batch = shuffle(self.memory)[-self.batch_size:] #рандомно мешаем информацию в батчах и достаем самые последние элементы в колв-ве batch_size\n",
    "        for curr_state, curr_action, curr_reward, next_state, done in batch:\n",
    "            states.append(curr_state)\n",
    "            next_state = np.reshape(next_state, [1, self.n_states])\n",
    "            curr_state = np.reshape(curr_state, [1, self.n_states])\n",
    "            wanted_Qvalue = curr_reward + self.gamma * np.amax(self.target_model.predict(next_state)[0]) if not done else curr_reward #здесь мы предсказываем желаемую величину, к которой должна быть приближена полезность действия\n",
    "            real_Qvalues = self.local_model.predict(curr_state) #предсказываем полезность всех возможных действий\n",
    "            real_Qvalues[0][curr_action] = wanted_Qvalue #на место совершенного действия ставим значение желаемой величины действия\n",
    "            Qvalues.append(real_Qvalues)\n",
    "        self.local_model.fit(np.vstack(states), np.vstack(Qvalues), batch_size=self.batch_size, epochs=1, verbose=0) #учим local_model\n",
    "        self.soft_update() #передаем её знания target_model"
   ]
  },
  {
   "cell_type": "code",
   "execution_count": 5,
   "metadata": {},
   "outputs": [
    {
     "name": "stdout",
     "output_type": "stream",
     "text": [
      "итерация: 0 награда: -508.5361331490704 средняя награда за все время: -508.5361331490704\n",
      "итерация: 50 награда: -131.01620349224612 средняя награда за все время: -212.11289420852154\n",
      "итерация: 100 награда: -121.53902343974698 средняя награда за все время: -189.37471578083287\n",
      "итерация: 150 награда: -98.79790332940584 средняя награда за все время: -156.39654191271035\n",
      "итерация: 200 награда: -93.91273177974018 средняя награда за все время: -137.3500109676958\n",
      "итерация: 250 награда: 17.605456755830332 средняя награда за все время: -117.44153473868006\n",
      "итерация: 300 награда: 190.74430894036635 средняя награда за все время: -89.61919728879253\n",
      "итерация: 350 награда: 217.99836928000806 средняя награда за все время: -51.495252308441\n",
      "итерация: 400 награда: 184.57867237500952 средняя награда за все время: -21.441713523871734\n",
      "итерация: 450 награда: -3.138890047015849 средняя награда за все время: -4.805825422401645\n",
      "итерация: 500 награда: 213.95715415762703 средняя награда за все время: 10.05898649149853\n",
      "итерация: 550 награда: -33.74326131114006 средняя награда за все время: 20.108796673915855\n",
      "итерация: 600 награда: -16.885540277666266 средняя награда за все время: 20.72775266864867\n",
      "итерация: 650 награда: 8.549273670100826 средняя награда за все время: 17.869034980878663\n",
      "итерация: 700 награда: 261.5832776956169 средняя награда за все время: 32.278544883891\n",
      "Модель прошла испытание за 747\n"
     ]
    },
    {
     "ename": "NameError",
     "evalue": "name 'pickle' is not defined",
     "output_type": "error",
     "traceback": [
      "\u001b[0;31m---------------------------------------------------------------------------\u001b[0m",
      "\u001b[0;31mNameError\u001b[0m                                 Traceback (most recent call last)",
      "\u001b[0;32m<ipython-input-5-2ca21d3d87a4>\u001b[0m in \u001b[0;36m<module>\u001b[0;34m\u001b[0m\n\u001b[1;32m     38\u001b[0m \u001b[0mdata\u001b[0m \u001b[0;34m=\u001b[0m \u001b[0;34m{\u001b[0m\u001b[0;34m'rewards'\u001b[0m\u001b[0;34m:\u001b[0m \u001b[0mrewards\u001b[0m\u001b[0;34m,\u001b[0m \u001b[0;34m'avg_rewards'\u001b[0m\u001b[0;34m:\u001b[0m \u001b[0mavg_rewards\u001b[0m\u001b[0;34m}\u001b[0m\u001b[0;34m\u001b[0m\u001b[0;34m\u001b[0m\u001b[0m\n\u001b[1;32m     39\u001b[0m \u001b[0;32mwith\u001b[0m \u001b[0mopen\u001b[0m\u001b[0;34m(\u001b[0m\u001b[0;34m'rewards.pickle'\u001b[0m\u001b[0;34m,\u001b[0m \u001b[0;34m'wb'\u001b[0m\u001b[0;34m)\u001b[0m \u001b[0;32mas\u001b[0m \u001b[0mf\u001b[0m\u001b[0;34m:\u001b[0m\u001b[0;34m\u001b[0m\u001b[0;34m\u001b[0m\u001b[0m\n\u001b[0;32m---> 40\u001b[0;31m     \u001b[0mpickle\u001b[0m\u001b[0;34m.\u001b[0m\u001b[0mdump\u001b[0m\u001b[0;34m(\u001b[0m\u001b[0mdata\u001b[0m\u001b[0;34m,\u001b[0m \u001b[0mf\u001b[0m\u001b[0;34m)\u001b[0m\u001b[0;34m\u001b[0m\u001b[0;34m\u001b[0m\u001b[0m\n\u001b[0m",
      "\u001b[0;31mNameError\u001b[0m: name 'pickle' is not defined"
     ]
    }
   ],
   "source": [
    "n_actions=4\n",
    "n_states=8\n",
    "rewards = []\n",
    "avg_rewards = []\n",
    "reward2break = [100, -100, 10, 200] #для ускорения обучения - как только агент приземлился на землю заканчиваем эпизод. Просто если он приземлился на землю, то ему уже сложно увеличить score\n",
    "eps_params = {'max_eps': 1, 'eps': 1, 'min_eps': 0.05, 'eps_delta': 0.096, 'n_jumps': 10}\n",
    "agent = QLearningMethod(gamma=0.99, learning_rate=0.0002, batch_size=30, max_memory_len = 1500, tau = 0.001,\n",
    "                        n_actions=4, n_states=8,\n",
    "                        eps_settings=eps_params, mode='train') #gamma=0.98, learning_rate=0.0001, batch_size=30, n_actions=4, n_states=8\n",
    "env = gym.make('LunarLander-v2')\n",
    "for episod in range(1000): #количество эпизодов\n",
    "    episode_reward = 0\n",
    "    curr_state = env.reset()\n",
    "    for time_step in range(2000):\n",
    "        curr_action = agent.choose_action(curr_state)\n",
    "        next_state, curr_reward, done, _ = env.step(curr_action)\n",
    "        episode_reward += curr_reward\n",
    "        agent.remember_step(curr_state, curr_action, curr_reward, next_state, done)\n",
    "        curr_state = next_state\n",
    "        if len(agent.memory) > agent.batch_size:\n",
    "            agent.faster_expirience_reply()\n",
    "        if done or curr_reward in reward2break:\n",
    "            break\n",
    "    rewards.append(episode_reward)\n",
    "    avg_rewards.append(np.average(rewards))\n",
    "    avg_rewards_100 = np.average(rewards[-100:])\n",
    "    if avg_rewards_100 >= 200:\n",
    "        print('Модель прошла испытание за %s'%(episod+1))\n",
    "        break\n",
    "    if episod%50 == 0:\n",
    "        print('итерация: %s награда: %s средняя награда за все время: %s'%(episod, episode_reward, avg_rewards[episod]))\n",
    "        \n",
    "agent.local_model.save('smart_agent_local.h5')\n",
    "agent.target_model.save('smart_agent_target.h5')\n",
    "data = {'rewards': rewards, 'avg_rewards': avg_rewards}\n",
    "with open('rewards.pickle', 'wb') as f:\n",
    "    pickle.dump(data, f)"
   ]
  },
  {
   "cell_type": "markdown",
   "metadata": {},
   "source": [
    "На самом деле правильней сказать, что она прошла испытание за 647 эпизодов (или итераций), так как по выбранной метрике именно 100 последних испытаний должны дать avg_score >=200, что и происходит за следующие после 647 100 эпизодов "
   ]
  },
  {
   "cell_type": "code",
   "execution_count": 2,
   "metadata": {},
   "outputs": [],
   "source": [
    "import pickle\n",
    "from matplotlib import pyplot as plt"
   ]
  },
  {
   "cell_type": "code",
   "execution_count": 10,
   "metadata": {},
   "outputs": [],
   "source": [
    "with open('rewards.pickle', 'wb') as f:\n",
    "    pickle.dump(data, f)"
   ]
  },
  {
   "cell_type": "code",
   "execution_count": 3,
   "metadata": {},
   "outputs": [
    {
     "data": {
      "image/png": "[encoded data removed]",
      "text/plain": [
       "<Figure size 432x288 with 1 Axes>"
      ]
     },
     "metadata": {
      "needs_background": "light"
     },
     "output_type": "display_data"
    }
   ],
   "source": [
    "with open('rewards.pickle', 'rb') as f:\n",
    "    data = pickle.load(f)\n",
    "    \n",
    "rewards = data['rewards']\n",
    "time = len(rewards)\n",
    "plt.figure()\n",
    "plt.plot(range(time), rewards)\n",
    "plt.ylabel('Награда')\n",
    "plt.xlabel('Эпизоды')\n",
    "plt.show()"
   ]
  },
  {
   "cell_type": "code",
   "execution_count": 9,
   "metadata": {},
   "outputs": [
    {
     "name": "stdout",
     "output_type": "stream",
     "text": [
      "[201.07126808256552]\n"
     ]
    },
    {
     "data": {
      "image/png": "[encoded data removed]",
      "text/plain": [
       "<Figure size 432x288 with 1 Axes>"
      ]
     },
     "metadata": {
      "needs_background": "light"
     },
     "output_type": "display_data"
    }
   ],
   "source": [
    "is_ipython = 'inline' in plt.get_backend()\n",
    "if is_ipython:\n",
    "    from IPython import display\n",
    "plt.ion()\n",
    "\n",
    "rewards = []\n",
    "avg_rewards = []\n",
    "reward2break = [100, -100, 10, 200]\n",
    "eps_params = {'max_eps': 1, 'eps': 1, 'min_eps': 0.05, 'eps_delta': 0.096, 'n_jumps': 10}\n",
    "agent = QLearningMethod(gamma=0.99, learning_rate=0.0002, batch_size=30, max_memory_len = 1500, tau = 0.001,\n",
    "                        n_actions=4, n_states=8,\n",
    "                        eps_settings=eps_params, mode='test') #gamma=0.98, learning_rate=0.0001, batch_size=30, n_actions=4, n_states=8\n",
    "env = gym.make('LunarLander-v2')\n",
    "for episod in range(1): #количество эпизодов\n",
    "    episode_reward = 0\n",
    "    curr_state = env.reset()\n",
    "    img = plt.imshow(env.render(mode='rgb_array'))\n",
    "    for time_step in range(1000):\n",
    "        curr_action = agent.choose_action(curr_state)\n",
    "        img.set_data(env.render(mode='rgb_array'))\n",
    "        plt.axis('off')\n",
    "        display.display(plt.gcf())\n",
    "        display.clear_output(wait=True)\n",
    "        next_state, curr_reward, done, _ = env.step(curr_action)\n",
    "        curr_state = next_state\n",
    "        episode_reward += curr_reward\n",
    "        if done or curr_reward in reward2break:\n",
    "            break\n",
    "    rewards.append(episode_reward)\n",
    "print(rewards)"
   ]
  },
  {
   "cell_type": "code",
   "execution_count": null,
   "metadata": {},
   "outputs": [],
   "source": []
  }
 ],
 "metadata": {
  "kernelspec": {
   "display_name": "Python 3",
   "language": "python",
   "name": "python3"
  },
  "language_info": {
   "codemirror_mode": {
    "name": "ipython",
    "version": 3
   },
   "file_extension": ".py",
   "mimetype": "text/x-python",
   "name": "python",
   "nbconvert_exporter": "python",
   "pygments_lexer": "ipython3",
   "version": "3.7.6"
  }
 },
 "nbformat": 4,
 "nbformat_minor": 4
}
